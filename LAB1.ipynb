{
 "cells": [
  {
   "cell_type": "code",
   "execution_count": 2,
   "id": "3c5f8d64",
   "metadata": {},
   "outputs": [],
   "source": [
    "def f(x):\n",
    "    return x**2"
   ]
  },
  {
   "cell_type": "code",
   "execution_count": 3,
   "id": "03eb465a",
   "metadata": {},
   "outputs": [],
   "source": [
    "def df(x):\n",
    "    return 2*x"
   ]
  },
  {
   "cell_type": "code",
   "execution_count": null,
   "id": "71801ab1",
   "metadata": {},
   "outputs": [],
   "source": [
    "def grad_des(x0,learn,step):\n",
    "    for i in range(step):\n",
    "        x = x0 - learn * df(x0)\n",
    "        print(\"Iteration\" + str(i) + \" , x0: \" + str(x0)+ \" , x: \" + str(x) + \" , f(x): \" + str(f(x)))\n",
    "        x0 = x"
   ]
  },
  {
   "cell_type": "code",
   "execution_count": 7,
   "id": "a8a02107",
   "metadata": {},
   "outputs": [
    {
     "name": "stdout",
     "output_type": "stream",
     "text": [
      "Iteration0 , x0: 10 , x: 8.0 , f(x): 64.0\n",
      "Iteration1 , x0: 8.0 , x: 6.4 , f(x): 40.96000000000001\n",
      "Iteration2 , x0: 6.4 , x: 5.12 , f(x): 26.2144\n",
      "Iteration3 , x0: 5.12 , x: 4.096 , f(x): 16.777216\n",
      "Iteration4 , x0: 4.096 , x: 3.2768 , f(x): 10.73741824\n",
      "Iteration5 , x0: 3.2768 , x: 2.62144 , f(x): 6.871947673600001\n",
      "Iteration6 , x0: 2.62144 , x: 2.0971520000000003 , f(x): 4.398046511104002\n",
      "Iteration7 , x0: 2.0971520000000003 , x: 1.6777216000000004 , f(x): 2.8147497671065613\n",
      "Iteration8 , x0: 1.6777216000000004 , x: 1.3421772800000003 , f(x): 1.801439850948199\n",
      "Iteration9 , x0: 1.3421772800000003 , x: 1.0737418240000003 , f(x): 1.1529215046068475\n"
     ]
    }
   ],
   "source": [
    "grad_des(10,0.1,10)\n"
   ]
  }
 ],
 "metadata": {
  "kernelspec": {
   "display_name": "base",
   "language": "python",
   "name": "python3"
  },
  "language_info": {
   "codemirror_mode": {
    "name": "ipython",
    "version": 3
   },
   "file_extension": ".py",
   "mimetype": "text/x-python",
   "name": "python",
   "nbconvert_exporter": "python",
   "pygments_lexer": "ipython3",
   "version": "3.12.2"
  }
 },
 "nbformat": 4,
 "nbformat_minor": 5
}

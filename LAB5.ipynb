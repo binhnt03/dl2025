{
 "cells": [
  {
   "cell_type": "code",
   "execution_count": 49,
   "id": "c0699fc9",
   "metadata": {},
   "outputs": [],
   "source": [
    "from sklearn.datasets import load_digits\n"
   ]
  },
  {
   "cell_type": "code",
   "execution_count": 2,
   "id": "715ca965",
   "metadata": {},
   "outputs": [],
   "source": [
    "class LCG:\n",
    "    def __init__(self, m, a, c, seed):\n",
    "        self.m = m\n",
    "        self.a = a\n",
    "        self.c = c\n",
    "        self.seed = seed\n",
    "\n",
    "    def random(self):\n",
    "        self.seed = (self.a * self.seed + self.c) % self.m\n",
    "        return self.seed / self.m"
   ]
  },
  {
   "cell_type": "code",
   "execution_count": 27,
   "id": "d9c76b66",
   "metadata": {},
   "outputs": [],
   "source": [
    "import math"
   ]
  },
  {
   "cell_type": "code",
   "execution_count": 3,
   "id": "15aafa26",
   "metadata": {},
   "outputs": [],
   "source": [
    "lcg = LCG(2**31-1, 106542, 12342986, 42)   "
   ]
  },
  {
   "cell_type": "code",
   "execution_count": 14,
   "id": "6983b82a",
   "metadata": {},
   "outputs": [
    {
     "data": {
      "text/plain": [
       "0.30150507590803555"
      ]
     },
     "execution_count": 14,
     "metadata": {},
     "output_type": "execute_result"
    }
   ],
   "source": [
    "lcg.random()"
   ]
  },
  {
   "cell_type": "code",
   "execution_count": 15,
   "id": "98bcdf21",
   "metadata": {},
   "outputs": [
    {
     "name": "stdout",
     "output_type": "stream",
     "text": [
      "[27.0, 24.3, 21.87, 19.683, 17.7147, 15.94323, 14.348907, 12.9140163, 11.62261467, 10.460353203, 9.4143178827, 8.47288609443, 7.625597484987001, 6.863037736488301, 6.176733962839471, 5.559060566555524, 5.0031545098999715, 4.5028390589099745, 4.052555153018977, 3.6472996377170794]\n"
     ]
    }
   ],
   "source": [
    "m = 30\n",
    "mr = []\n",
    "for i in range(20):\n",
    "    m = m - 0.1*m\n",
    "    mr.append(m)\n",
    "print(mr)\n"
   ]
  },
  {
   "cell_type": "code",
   "execution_count": null,
   "id": "0eb919df",
   "metadata": {},
   "outputs": [
    {
     "data": {
      "image/png": "[encoded data removed]",
      "text/plain": [
       "<Figure size 640x480 with 1 Axes>"
      ]
     },
     "metadata": {},
     "output_type": "display_data"
    },
    {
     "name": "stdout",
     "output_type": "stream",
     "text": [
      "Final predictions:\n",
      "Input: [0, 0], Predicted: 0.0047\n",
      "Input: [1, 1], Predicted: 0.0117\n",
      "Input: [0, 1], Predicted: 0.9905\n",
      "Input: [1, 0], Predicted: 0.9904\n",
      "Input: [0, 1], Predicted: 0.9905\n",
      "Input: [0, 0], Predicted: 0.0047\n"
     ]
    }
   ],
   "source": [
    "import math\n",
    "import matplotlib.pyplot as plt\n",
    "\n",
    "\n",
    "def sigmoid(x):\n",
    "    return 1 / (1 + math.exp(-x))\n",
    "\n",
    "def floss(yp,yi):\n",
    "    return -(yi*math.log(yp) + (1-yi)*math.log(1-yp))\n",
    "\n",
    "def dsigmoid_d(x):\n",
    "    return math.exp(-x)/((1+math.exp(-x))**2)\n",
    "\n",
    "def dot(a, b):\n",
    "    return sum(x * y for x, y in zip(a, b))\n",
    "\n",
    "class Layer:\n",
    "    def __init__(self, input_size, output_size):\n",
    "        self.weights = [[lcg.random() for _ in range(input_size)] for _ in range(output_size)]\n",
    "        self.biases = [lcg.random() for _ in range(output_size)]\n",
    "        self.last_input = []\n",
    "        self.last_z = []\n",
    "        self.last_activation = []\n",
    "\n",
    "    def forward(self, input_vector):\n",
    "        self.last_input = input_vector\n",
    "        # Using linear model to compute\n",
    "        self.last_z = [dot(self.weights[i], input_vector) + self.biases[i] for i in range(len(self.weights))]\n",
    "        # Using activation function for generate the value of each neuron in the hidden layer, represented as one tuple\n",
    "        self.last_activation = [sigmoid(z) for z in self.last_z]\n",
    "        return self.last_activation\n",
    "\n",
    "    def backward(self, output_error, learning_rate, next_layer_weights=None, next_layer_deltas=None):\n",
    "        # Gradient\n",
    "        deltas = []\n",
    "        for i in range(len(self.last_activation)):\n",
    "            if next_layer_weights is None:\n",
    "            # The loss rate of the final output\n",
    "                loss = output_error[i]\n",
    "            else:\n",
    "            # A tuple contains loss rate of the next layer neuron to the previous layer neuron\n",
    "                loss = sum(next_layer_weights[j][i] * next_layer_deltas[j] for j in range(len(next_layer_deltas)))\n",
    "            # Gradient descending\n",
    "            delta = loss * dsigmoid_d(self.last_z[i])\n",
    "            deltas.append(delta)\n",
    "            for j in range(len(self.last_input)):\n",
    "                self.weights[i][j] = self.weights[i][j] - learning_rate * delta * self.last_input[j]\n",
    "            self.biases[i] = self.biases[i] - learning_rate * delta\n",
    "        return deltas\n",
    "\n",
    "class NeuralNetwork:\n",
    "    def __init__(self, input_size, hidden_size, output_size):\n",
    "        self.hidden_layer = Layer(input_size, hidden_size)\n",
    "        self.output_layer = Layer(hidden_size, output_size)\n",
    "\n",
    "    def predict(self, input_vector):\n",
    "        hidden_output = self.hidden_layer.forward(input_vector)\n",
    "        output = self.output_layer.forward(hidden_output)\n",
    "        return output\n",
    "\n",
    "    def train(self, X, Y, epochs=10000, learning_rate=0.5):\n",
    "        losses = []\n",
    "        for epoch in range(epochs):\n",
    "            loss = 0\n",
    "            for x, y in zip(X, Y):\n",
    "                # Forward pass\n",
    "                hidden_output = self.hidden_layer.forward(x)\n",
    "                output = self.output_layer.forward(hidden_output)\n",
    "\n",
    "                # Compute loss\n",
    "\n",
    "                #-(y[i]*math.log(output[i]) + (1-y[i])*math.log(1-ouput[i]))\n",
    "     \n",
    "                loss += sum(-(y[i]*math.log(output[i]) + (1-y[i])*math.log(1-output[i])) for i in range(len(y)))\n",
    "\n",
    "                # Backward pass\n",
    "                output_error = [output[i] - y[i] for i in range(len(y))]\n",
    "                output_deltas = self.output_layer.backward(output_error, learning_rate)\n",
    "                self.hidden_layer.backward(output_error, learning_rate, self.output_layer.weights, output_deltas)\n",
    "\n",
    "            losses.append(loss)\n",
    "\n",
    "        # Plot training loss\n",
    "        plt.plot(losses)\n",
    "        plt.title(\"Training Loss\")\n",
    "        plt.xlabel(\"Epoch\")\n",
    "        plt.ylabel(\"Loss\")\n",
    "        plt.show()\n",
    "\n",
    "\n",
    "    # Predict the output of the Neural Network\n",
    "    def test(self, X):\n",
    "        print(\"Final predictions:\")\n",
    "        for x in X:\n",
    "            output = self.predict(x)\n",
    "            print(f\"Input: {x}, Predicted: {output[0]:.4f}\")\n",
    "\n",
    "# XOR problem\n",
    "X = [[0,0], [0,1], [1,0], [1,1],[0,0],[1,0],[0,1],[0,0],[1,1]]\n",
    "Y = [[0], [1], [1], [0],[0],[1],[1],[0],[0]]\n",
    "# Test set\n",
    "X_test = [[0,0],[1,1],[0,1],[1,0],[0,1],[0,0]] \n",
    "# Create and train network\n",
    "nn = NeuralNetwork(input_size=len(X[0]), hidden_size=26, output_size=len(Y[0]))\n",
    "nn.train(X, Y)\n",
    "nn.test(X_test)\n"
   ]
  }
 ],
 "metadata": {
  "kernelspec": {
   "display_name": "base",
   "language": "python",
   "name": "python3"
  },
  "language_info": {
   "codemirror_mode": {
    "name": "ipython",
    "version": 3
   },
   "file_extension": ".py",
   "mimetype": "text/x-python",
   "name": "python",
   "nbconvert_exporter": "python",
   "pygments_lexer": "ipython3",
   "version": "3.12.2"
  }
 },
 "nbformat": 4,
 "nbformat_minor": 5
}

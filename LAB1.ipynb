{
 "cells": [
  {
   "cell_type": "markdown",
   "id": "905b43a8",
   "metadata": {},
   "source": [
    "# Labwork 1: Getting started"
   ]
  },
  {
   "cell_type": "code",
   "execution_count": 2,
   "id": "3c5f8d64",
   "metadata": {},
   "outputs": [],
   "source": [
    "def f(x):\n",
    "    return x**2"
   ]
  },
  {
   "cell_type": "code",
   "execution_count": 3,
   "id": "03eb465a",
   "metadata": {},
   "outputs": [],
   "source": [
    "def df(x):\n",
    "    return 2*x"
   ]
  },
  {
   "cell_type": "code",
   "execution_count": null,
   "id": "71801ab1",
   "metadata": {},
   "outputs": [],
   "source": [
    "def grad_des(x0,learn,step):\n",
    "    for i in range(step):\n",
    "        x = x0 - learn * df(x0)\n",
    "        print(\"Iteration\" + str(i) + \" , x0: \" + str(x0)+ \" , x: \" + str(x) + \" , f(x): \" + str(f(x)))\n",
    "        x0 = x"
   ]
  },
  {
   "cell_type": "code",
   "execution_count": 7,
   "id": "a8a02107",
   "metadata": {},
   "outputs": [
    {
     "name": "stdout",
     "output_type": "stream",
     "text": [
      "Iteration0 , x0: 10 , x: 8.0 , f(x): 64.0\n",
      "Iteration1 , x0: 8.0 , x: 6.4 , f(x): 40.96000000000001\n",
      "Iteration2 , x0: 6.4 , x: 5.12 , f(x): 26.2144\n",
      "Iteration3 , x0: 5.12 , x: 4.096 , f(x): 16.777216\n",
      "Iteration4 , x0: 4.096 , x: 3.2768 , f(x): 10.73741824\n",
      "Iteration5 , x0: 3.2768 , x: 2.62144 , f(x): 6.871947673600001\n",
      "Iteration6 , x0: 2.62144 , x: 2.0971520000000003 , f(x): 4.398046511104002\n",
      "Iteration7 , x0: 2.0971520000000003 , x: 1.6777216000000004 , f(x): 2.8147497671065613\n",
      "Iteration8 , x0: 1.6777216000000004 , x: 1.3421772800000003 , f(x): 1.801439850948199\n",
      "Iteration9 , x0: 1.3421772800000003 , x: 1.0737418240000003 , f(x): 1.1529215046068475\n"
     ]
    }
   ],
   "source": [
    "grad_des(10,0.1,10)\n"
   ]
  },
  {
   "cell_type": "markdown",
   "id": "b314bb2e",
   "metadata": {},
   "source": [
    "# Lab2: With loss function"
   ]
  },
  {
   "cell_type": "code",
   "execution_count": 14,
   "id": "f403189b",
   "metadata": {},
   "outputs": [],
   "source": [
    "import matplotlib.pyplot as plt"
   ]
  },
  {
   "cell_type": "code",
   "execution_count": 13,
   "id": "f447d916",
   "metadata": {},
   "outputs": [],
   "source": [
    "x = [10,20,40,60,80]\n",
    "y = [55,80,100,120,150]"
   ]
  },
  {
   "cell_type": "code",
   "execution_count": 12,
   "id": "373b510b",
   "metadata": {},
   "outputs": [],
   "source": [
    "def yp(x,w1,w0):\n",
    "    return w1*x + w0"
   ]
  },
  {
   "cell_type": "code",
   "execution_count": null,
   "id": "bb482904",
   "metadata": {},
   "outputs": [],
   "source": [
    "def loss(y,w0,w1,x):\n",
    "    return (w1 * x + w0 - y)**2/2 "
   ]
  },
  {
   "cell_type": "code",
   "execution_count": null,
   "id": "4e48179f",
   "metadata": {},
   "outputs": [],
   "source": [
    "def loss1(y,w0,w1,x):\n",
    "    return x * ( w1 * x + w0 - y )"
   ]
  },
  {
   "cell_type": "code",
   "execution_count": null,
   "id": "3ed2815c",
   "metadata": {},
   "outputs": [],
   "source": [
    "def loss0(y,w0,w1,x):\n",
    "    return w1 * x + w0 - y "
   ]
  },
  {
   "cell_type": "code",
   "execution_count": 30,
   "id": "5580866e",
   "metadata": {},
   "outputs": [],
   "source": [
    "def mse(x,y,w0,w1):\n",
    "    mse = 0\n",
    "    for i in range(len(x)):\n",
    "        mse = mse + (w1*x[i]+w0-y[i])/(2*len(x))\n",
    "    return mse"
   ]
  },
  {
   "cell_type": "code",
   "execution_count": 38,
   "id": "05f4322f",
   "metadata": {},
   "outputs": [],
   "source": [
    "def mse1(x,y,w0,w1):\n",
    "    mse1 = 0\n",
    "    for i in range(len(x)):\n",
    "        mse1 = mse1 + w1*(w1*x[i]+w0-y[i])/len(x)\n",
    "    return mse1"
   ]
  },
  {
   "cell_type": "code",
   "execution_count": 39,
   "id": "96f798db",
   "metadata": {},
   "outputs": [],
   "source": [
    "def mse0(x,y,w0,w1):\n",
    "    mse1 = 0\n",
    "    for i in range(len(x)):\n",
    "        mse1 = mse1 + (w1*x[i]+w0-y[i])/len(x)\n",
    "    return mse1"
   ]
  },
  {
   "cell_type": "code",
   "execution_count": null,
   "id": "4e4686d1",
   "metadata": {},
   "outputs": [],
   "source": [
    "def gd(w0,w1,lr,threshold,y,x):\n",
    "    i = 0\n",
    "    while True:\n",
    "        l0 = mse0(x,y,w0,w1)\n",
    "        l1 = mse1(x,y,w0,w1)\n",
    "        print(\"Step \"+str(i)+\", w0: \"+str(w0)+\", w1: \"+str(w1)+\", loss0: \"+str(l0)+\", loss1: \"+str(l1))\n",
    "        w0 = w0 - lr * l0\n",
    "        w1 = w1 - lr * l1\n",
    "        i = i + 1\n",
    "        if ( l0 < threshold and l1 < threshold and l0 > -threshold and l1> -threshold):\n",
    "            break\n",
    "    "
   ]
  },
  {
   "cell_type": "markdown",
   "id": "dc2c2a8a",
   "metadata": {},
   "source": [
    "Be careful of choosing the learning rate, you do not want to turn this thing into GRADIENT ASCEND :)"
   ]
  },
  {
   "cell_type": "code",
   "execution_count": null,
   "id": "a88d3271",
   "metadata": {},
   "outputs": [
    {
     "name": "stdout",
     "output_type": "stream",
     "text": [
      "Step 0, w0: 3, w1: 6, loss0: 154.0, loss1: 924.0000000000001\n",
      "Step 1, w0: 2.23, w1: 1.379999999999999, loss0: -40.810000000000045, loss1: -56.31780000000002\n",
      "Step 2, w0: 2.43405, w1: 1.661588999999999, loss0: -28.779212000000037, loss1: -47.81922208786804\n",
      "Step 3, w0: 2.5779460600000004, w1: 1.9006851104393392, loss0: -18.593279301547756, loss1: -35.33996912269178\n",
      "Step 4, w0: 2.670912456507739, w1: 2.077384956052798, loss0: -11.078919389274736, loss1: -23.01518046860099\n",
      "Step 5, w0: 2.726307053454113, w1: 2.192460858395803, loss0: -6.190336893922161, loss1: -13.572071340207788\n",
      "Step 6, w0: 2.7572587379237237, w1: 2.260321215096842, loss0: -3.3092502280089207, loss1: -7.479968496432619\n",
      "Step 7, w0: 2.7738049890637684, w1: 2.297721057579005, loss0: -1.7219105926180376, loss1: -3.956470227926811\n",
      "Step 8, w0: 2.7824145420268587, w1: 2.317503408718639, loss0: -0.8824422917903059, loss1: -2.0450630192215264\n",
      "Step 9, w0: 2.78682675348581, w1: 2.3277287238147464, loss0: -0.44856684629483645, loss1: -1.0441419326714936\n",
      "Step 10, w0: 2.789069587717284, w1: 2.332949433478104, loss0: -0.22705420620235905, loss1: -0.5297059817286076\n",
      "Step 11, w0: 2.790204858748296, w1: 2.3355979633867467, loss0: -0.11468067900834189, loss1: -0.26784796033169656\n",
      "Step 12, w0: 2.7907782621433377, w1: 2.336937203188405, loss0: -0.05785920394365007, loss1: -0.1352133262427806\n"
     ]
    }
   ],
   "source": [
    "gd(3,6,0.005,0.25,y,x)"
   ]
  }
 ],
 "metadata": {
  "kernelspec": {
   "display_name": "base",
   "language": "python",
   "name": "python3"
  },
  "language_info": {
   "codemirror_mode": {
    "name": "ipython",
    "version": 3
   },
   "file_extension": ".py",
   "mimetype": "text/x-python",
   "name": "python",
   "nbconvert_exporter": "python",
   "pygments_lexer": "ipython3",
   "version": "3.12.2"
  }
 },
 "nbformat": 4,
 "nbformat_minor": 5
}

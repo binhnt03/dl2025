{
 "cells": [
  {
   "cell_type": "code",
   "execution_count": 2,
   "id": "ce8eec06",
   "metadata": {},
   "outputs": [],
   "source": [
    "import math\n",
    "import matplotlib.pyplot as plt\n"
   ]
  },
  {
   "cell_type": "code",
   "execution_count": 3,
   "id": "b1471923",
   "metadata": {},
   "outputs": [],
   "source": [
    "def sigmoid(z):\n",
    "    return 1/(1+math.e**(-z))"
   ]
  },
  {
   "cell_type": "code",
   "execution_count": 4,
   "id": "2ee842db",
   "metadata": {},
   "outputs": [],
   "source": [
    "def sigmoid_derivative(x):\n",
    "    sx = sigmoid(x)\n",
    "    return sx * (1 - sx)\n",
    "\n",
    "def dot(a, b):\n",
    "    return sum( x * y for x, y in zip(a, b))"
   ]
  },
  {
   "cell_type": "code",
   "execution_count": 5,
   "id": "5fb0e32c",
   "metadata": {},
   "outputs": [],
   "source": [
    "class LCG:\n",
    "    def __init__(self, m, a, c, seed):\n",
    "        self.m = m\n",
    "        self.a = a\n",
    "        self.c = c\n",
    "        self.seed = seed\n",
    "\n",
    "    def random(self):\n",
    "        self.seed = (self.a * self.seed + self.c) % self.m\n",
    "        return self.seed / self.m"
   ]
  },
  {
   "cell_type": "code",
   "execution_count": 6,
   "id": "30fc0c90",
   "metadata": {},
   "outputs": [],
   "source": [
    "lcg = LCG(2**31-1, 106542, 12342986, 42)    "
   ]
  },
  {
   "cell_type": "code",
   "execution_count": 7,
   "id": "82fc32ee",
   "metadata": {},
   "outputs": [
    {
     "data": {
      "text/plain": [
       "0.0078313751182665"
      ]
     },
     "execution_count": 7,
     "metadata": {},
     "output_type": "execute_result"
    }
   ],
   "source": [
    "lcg.random()"
   ]
  },
  {
   "cell_type": "code",
   "execution_count": 10,
   "id": "042ea417",
   "metadata": {},
   "outputs": [
    {
     "ename": "TypeError",
     "evalue": "can't multiply sequence by non-int of type 'float'",
     "output_type": "error",
     "traceback": [
      "\u001b[0;31m---------------------------------------------------------------------------\u001b[0m",
      "\u001b[0;31mTypeError\u001b[0m                                 Traceback (most recent call last)",
      "Cell \u001b[0;32mIn[10], line 36\u001b[0m\n\u001b[1;32m     33\u001b[0m Y \u001b[38;5;241m=\u001b[39m [[\u001b[38;5;241m0\u001b[39m], [\u001b[38;5;241m1\u001b[39m], [\u001b[38;5;241m1\u001b[39m], [\u001b[38;5;241m0\u001b[39m]]\n\u001b[1;32m     35\u001b[0m nn \u001b[38;5;241m=\u001b[39m NeuralNetwork(input_size\u001b[38;5;241m=\u001b[39m\u001b[38;5;28mlen\u001b[39m(X[\u001b[38;5;241m0\u001b[39m]), hidden_size\u001b[38;5;241m=\u001b[39m\u001b[38;5;241m10\u001b[39m, output_size\u001b[38;5;241m=\u001b[39m\u001b[38;5;28mlen\u001b[39m(Y[\u001b[38;5;241m0\u001b[39m]))\n\u001b[0;32m---> 36\u001b[0m nn\u001b[38;5;241m.\u001b[39mpredict(X)\n",
      "Cell \u001b[0;32mIn[10], line 26\u001b[0m, in \u001b[0;36mNeuralNetwork.predict\u001b[0;34m(self, input_vector)\u001b[0m\n\u001b[1;32m     25\u001b[0m \u001b[38;5;28;01mdef\u001b[39;00m \u001b[38;5;21mpredict\u001b[39m(\u001b[38;5;28mself\u001b[39m, input_vector):\n\u001b[0;32m---> 26\u001b[0m     hidden_output \u001b[38;5;241m=\u001b[39m \u001b[38;5;28mself\u001b[39m\u001b[38;5;241m.\u001b[39mhidden_layer\u001b[38;5;241m.\u001b[39mforward(input_vector)\n\u001b[1;32m     27\u001b[0m     output \u001b[38;5;241m=\u001b[39m \u001b[38;5;28mself\u001b[39m\u001b[38;5;241m.\u001b[39moutput_layer\u001b[38;5;241m.\u001b[39mforward(hidden_output)\n\u001b[1;32m     28\u001b[0m     \u001b[38;5;28;01mreturn\u001b[39;00m output\n",
      "Cell \u001b[0;32mIn[10], line 12\u001b[0m, in \u001b[0;36mLayer.forward\u001b[0;34m(self, input_vector)\u001b[0m\n\u001b[1;32m     10\u001b[0m \u001b[38;5;28mself\u001b[39m\u001b[38;5;241m.\u001b[39mlast_input \u001b[38;5;241m=\u001b[39m input_vector\n\u001b[1;32m     11\u001b[0m \u001b[38;5;66;03m# Using linear model to compute\u001b[39;00m\n\u001b[0;32m---> 12\u001b[0m \u001b[38;5;28mself\u001b[39m\u001b[38;5;241m.\u001b[39mlast_z \u001b[38;5;241m=\u001b[39m [dot(input_vector, \u001b[38;5;28mself\u001b[39m\u001b[38;5;241m.\u001b[39mweights[i]) \u001b[38;5;241m+\u001b[39m \u001b[38;5;28mself\u001b[39m\u001b[38;5;241m.\u001b[39mbiases[i] \u001b[38;5;28;01mfor\u001b[39;00m i \u001b[38;5;129;01min\u001b[39;00m \u001b[38;5;28mrange\u001b[39m(\u001b[38;5;28mlen\u001b[39m(\u001b[38;5;28mself\u001b[39m\u001b[38;5;241m.\u001b[39mweights))]\n\u001b[1;32m     13\u001b[0m \u001b[38;5;66;03m# Using activation function for generate the value of each neuron in the hidden layer, represented as one tuple\u001b[39;00m\n\u001b[1;32m     14\u001b[0m \u001b[38;5;28mself\u001b[39m\u001b[38;5;241m.\u001b[39mlast_activation \u001b[38;5;241m=\u001b[39m [sigmoid(z) \u001b[38;5;28;01mfor\u001b[39;00m z \u001b[38;5;129;01min\u001b[39;00m \u001b[38;5;28mself\u001b[39m\u001b[38;5;241m.\u001b[39mlast_z]\n",
      "Cell \u001b[0;32mIn[4], line 6\u001b[0m, in \u001b[0;36mdot\u001b[0;34m(a, b)\u001b[0m\n\u001b[1;32m      5\u001b[0m \u001b[38;5;28;01mdef\u001b[39;00m \u001b[38;5;21mdot\u001b[39m(a, b):\n\u001b[0;32m----> 6\u001b[0m     \u001b[38;5;28;01mreturn\u001b[39;00m \u001b[38;5;28msum\u001b[39m( x \u001b[38;5;241m*\u001b[39m y \u001b[38;5;28;01mfor\u001b[39;00m x, y \u001b[38;5;129;01min\u001b[39;00m \u001b[38;5;28mzip\u001b[39m(a, b))\n",
      "Cell \u001b[0;32mIn[4], line 6\u001b[0m, in \u001b[0;36m<genexpr>\u001b[0;34m(.0)\u001b[0m\n\u001b[1;32m      5\u001b[0m \u001b[38;5;28;01mdef\u001b[39;00m \u001b[38;5;21mdot\u001b[39m(a, b):\n\u001b[0;32m----> 6\u001b[0m     \u001b[38;5;28;01mreturn\u001b[39;00m \u001b[38;5;28msum\u001b[39m( x \u001b[38;5;241m*\u001b[39m y \u001b[38;5;28;01mfor\u001b[39;00m x, y \u001b[38;5;129;01min\u001b[39;00m \u001b[38;5;28mzip\u001b[39m(a, b))\n",
      "\u001b[0;31mTypeError\u001b[0m: can't multiply sequence by non-int of type 'float'"
     ]
    }
   ],
   "source": [
    "class Layer:\n",
    "    def __init__(self, input_size, output_size):\n",
    "        self.weights = [[lcg.random() for _ in range(input_size)] for _ in range(output_size)]\n",
    "        self.biases = [lcg.random() for _ in range(output_size)]\n",
    "        self.last_input = []\n",
    "        self.last_z = []\n",
    "        self.last_activation = []\n",
    "\n",
    "    def forward(self, input_vector):\n",
    "        self.last_input = input_vector\n",
    "        # Using linear model to compute\n",
    "        self.last_z = [dot(input_vector, self.weights[i]) + self.biases[i] for i in range(len(self.weights))]\n",
    "        # Using activation function for generate the value of each neuron in the hidden layer, represented as one tuple\n",
    "        self.last_activation = [sigmoid(z) for z in self.last_z]\n",
    "        return self.last_activation\n",
    "    \n",
    "        \n",
    "        \n",
    "\n",
    "class NeuralNetwork:\n",
    "    def __init__(self, input_size, hidden_size, output_size):\n",
    "        self.hidden_layer = Layer(input_size, hidden_size)\n",
    "        self.output_layer = Layer(hidden_size, output_size)\n",
    "\n",
    "    def predict(self, input_vector):\n",
    "        hidden_output = self.hidden_layer.forward(input_vector)\n",
    "        output = self.output_layer.forward(hidden_output)\n",
    "        return output\n",
    "    \n",
    "\n",
    "# XOR problem\n",
    "X = [[0,0], [0,1], [1,0], [1,1]]\n",
    "Y = [[0], [1], [1], [0]]\n",
    "\n",
    "nn = NeuralNetwork(input_size=len(X[0]), hidden_size=10, output_size=len(Y[0]))\n",
    "nn.predict(X)\n",
    "\n",
    "\n",
    "    \n",
    "    \n",
    "    \n",
    "\n",
    "\n",
    "        \n",
    "\n",
    "    "
   ]
  }
 ],
 "metadata": {
  "kernelspec": {
   "display_name": "base",
   "language": "python",
   "name": "python3"
  },
  "language_info": {
   "codemirror_mode": {
    "name": "ipython",
    "version": 3
   },
   "file_extension": ".py",
   "mimetype": "text/x-python",
   "name": "python",
   "nbconvert_exporter": "python",
   "pygments_lexer": "ipython3",
   "version": "3.12.2"
  }
 },
 "nbformat": 4,
 "nbformat_minor": 5
}

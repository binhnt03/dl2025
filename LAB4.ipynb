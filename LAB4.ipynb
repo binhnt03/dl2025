{
 "cells": [
  {
   "cell_type": "code",
   "execution_count": null,
   "id": "ce8eec06",
   "metadata": {},
   "outputs": [],
   "source": [
    "import math\n",
    "import matplotlib.pyplot as plt\n"
   ]
  },
  {
   "cell_type": "code",
   "execution_count": 31,
   "id": "b1471923",
   "metadata": {},
   "outputs": [],
   "source": [
    "def sigmoid(z):\n",
    "    return 1/(1+math.e**(-z))"
   ]
  },
  {
   "cell_type": "code",
   "execution_count": 75,
   "id": "5fb0e32c",
   "metadata": {},
   "outputs": [],
   "source": [
    "class LCG:\n",
    "    def __init__(self, m, a, c, seed):\n",
    "        self.m = m\n",
    "        self.a = a\n",
    "        self.c = c\n",
    "        self.seed = seed\n",
    "\n",
    "    def random(self):\n",
    "        self.seed = (self.a * self.seed + self.c) % self.m\n",
    "        return self.seed / self.m"
   ]
  },
  {
   "cell_type": "code",
   "execution_count": 76,
   "id": "30fc0c90",
   "metadata": {},
   "outputs": [],
   "source": [
    "lcg = LCG(2**31-1, 106542, 12342986, 42)    "
   ]
  },
  {
   "cell_type": "code",
   "execution_count": 111,
   "id": "82fc32ee",
   "metadata": {},
   "outputs": [
    {
     "data": {
      "text/plain": [
       "0.23840501729324692"
      ]
     },
     "execution_count": 111,
     "metadata": {},
     "output_type": "execute_result"
    }
   ],
   "source": [
    "lcg.random()"
   ]
  },
  {
   "cell_type": "code",
   "execution_count": 60,
   "id": "08f6900a",
   "metadata": {},
   "outputs": [],
   "source": [
    "def multiply(matrix_a: list[list[float]],matrix_b:list[list[float]]):\n",
    "    # Initialize the result matrix with zeros\n",
    "    result = [[0 for _ in range(len(matrix_b[0]))] for _ in range(len(matrix_a))]\n",
    "\n",
    "    # Perform matrix multiplication\n",
    "    for i in range(len(matrix_a)):\n",
    "        for j in range(len(matrix_b[0])):\n",
    "            for k in range(len(matrix_b)):\n",
    "                result[i][j] += matrix_a[i][k] * matrix_b[k][j]\n",
    "\n",
    "    return result"
   ]
  },
  {
   "cell_type": "code",
   "execution_count": 120,
   "id": "38b088e8",
   "metadata": {},
   "outputs": [],
   "source": [
    "def matrix_plus(matrix_a: list[list[float]],matrix_b: list[list[float]]):\n",
    "    result = [[0 for _ in range(len(matrix_b[0]))] for _ in range(len(matrix_b))]\n",
    "    if len(matrix_a[0]) == len(matrix_b[0]) and len(matrix_a) == len(matrix_b):\n",
    "        for i in range(len(matrix_a)):\n",
    "            for j in range(len(matrix_b)):\n",
    "                result[i][j] = matrix_a[i][j] + matrix_b[i][j]\n",
    "                \n",
    "    return result"
   ]
  },
  {
   "cell_type": "code",
   "execution_count": null,
   "id": "042ea417",
   "metadata": {},
   "outputs": [
    {
     "name": "stdout",
     "output_type": "stream",
     "text": [
      "[[3.906541973026023, 5.587768784335373], [2.2859664179120047, 3.2697592602987657], [3.252293035877074, 4.651956033972498], [3.504183565659778, 5.012250649801042], [2.154450190196134, 3.0816434594348516], [3.4740899901430695, 4.969205946059884], [2.3160599934287127, 3.3128039640399227]]\n"
     ]
    }
   ],
   "source": [
    "class Layer:\n",
    "    def __init__(self, neuron_last, neuron_new):\n",
    "        self.weights = [[lcg.random() for i in range(neuron_last)] for j in range(neuron_new)]\n",
    "        self.biases = [lcg.random() for _ in range(neuron_new)]\n",
    "        self.last_layer = []\n",
    "        self.next_layer = []\n",
    "        \n",
    "    def forward(self, layer_neurons):\n",
    "        self.last_layer = layer_neurons\n",
    "        # without biases\n",
    "        self.next_layer = multiply(layer_neurons,self.weights)\n",
    "        #self.next_layer = matrix_plus(multiply(self.last_layer, self.weights), self.biases)\n",
    "        return self.next_layer\n",
    "        \n",
    "        \n",
    "\n",
    "class NeuralNetwork:\n",
    "\n",
    "    def __init__(self,inputs,hiddens,outputs):\n",
    "        self.hidden_layer = Layer(inputs, hiddens)\n",
    "        self.output_layer = Layer(hiddens, outputs)\n",
    "\n",
    "    def predict(self, inputs):\n",
    "        hidden_layer = self.hidden_layer.forward(inputs)\n",
    "        output = self.output_layer.forward(hidden_layer)\n",
    "        return output\n",
    "    \n",
    "\n",
    "X = [[5,8],[7,1],[6,5],[8,4],[1,6],[9,3],[6,2]]\n",
    "Y = [[1],[0],[0],[0],[1],[0],[1]]\n",
    "\n",
    "\n",
    "nn = NeuralNetwork(inputs=2, hiddens=2, outputs=1)\n",
    "print(nn.predict(X))\n",
    "\n",
    "\n",
    "    \n",
    "    \n",
    "    \n",
    "\n",
    "\n",
    "        \n",
    "\n",
    "    "
   ]
  }
 ],
 "metadata": {
  "kernelspec": {
   "display_name": "base",
   "language": "python",
   "name": "python3"
  },
  "language_info": {
   "codemirror_mode": {
    "name": "ipython",
    "version": 3
   },
   "file_extension": ".py",
   "mimetype": "text/x-python",
   "name": "python",
   "nbconvert_exporter": "python",
   "pygments_lexer": "ipython3",
   "version": "3.12.2"
  }
 },
 "nbformat": 4,
 "nbformat_minor": 5
}

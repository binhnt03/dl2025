{
 "cells": [
  {
   "cell_type": "code",
   "execution_count": 1,
   "id": "d8d30157",
   "metadata": {},
   "outputs": [],
   "source": [
    "x = [10,20,40,60,80]\n",
    "y = [55,80,100,120,150]"
   ]
  },
  {
   "cell_type": "code",
   "execution_count": 2,
   "id": "f01cf968",
   "metadata": {},
   "outputs": [],
   "source": [
    "def yp(x,w1,w0):\n",
    "    return w1*x + w0"
   ]
  },
  {
   "cell_type": "code",
   "execution_count": 3,
   "id": "bada3f75",
   "metadata": {},
   "outputs": [],
   "source": [
    "def loss(y,w0,w1,x):\n",
    "    return (w1 * x + w0 - y)**2/2 "
   ]
  },
  {
   "cell_type": "code",
   "execution_count": 4,
   "id": "b972fe71",
   "metadata": {},
   "outputs": [],
   "source": [
    "def loss1(y,w0,w1,x):\n",
    "    return x * ( w1 * x + w0 - y )"
   ]
  },
  {
   "cell_type": "code",
   "execution_count": 5,
   "id": "7e6d3fca",
   "metadata": {},
   "outputs": [],
   "source": [
    "def loss0(y,w0,w1,x):\n",
    "    return w1 * x + w0 - y "
   ]
  },
  {
   "cell_type": "code",
   "execution_count": 6,
   "id": "31f96f37",
   "metadata": {},
   "outputs": [],
   "source": [
    "def mse(x,y,w0,w1):\n",
    "    mse = 0\n",
    "    for i in range(len(x)):\n",
    "        mse = mse + (w1*x[i]+w0-y[i])/(2*len(x))\n",
    "    return mse"
   ]
  },
  {
   "cell_type": "code",
   "execution_count": 7,
   "id": "56dad2bc",
   "metadata": {},
   "outputs": [],
   "source": [
    "def mse1(x,y,w0,w1):\n",
    "    mse1 = 0\n",
    "    for i in range(len(x)):\n",
    "        mse1 = mse1 + w1*(w1*x[i]+w0-y[i])/len(x)\n",
    "    return mse1"
   ]
  },
  {
   "cell_type": "code",
   "execution_count": 8,
   "id": "e3bf1482",
   "metadata": {},
   "outputs": [],
   "source": [
    "def mse0(x,y,w0,w1):\n",
    "    mse1 = 0\n",
    "    for i in range(len(x)):\n",
    "        mse1 = mse1 + (w1*x[i]+w0-y[i])/len(x)\n",
    "    return mse1"
   ]
  },
  {
   "cell_type": "code",
   "execution_count": 9,
   "id": "1d0f0116",
   "metadata": {},
   "outputs": [],
   "source": [
    "def gd(w0,w1,lr,threshold,y,x):\n",
    "    i = 0\n",
    "    while True:\n",
    "        l0 = mse0(x,y,w0,w1)\n",
    "        l1 = mse1(x,y,w0,w1)\n",
    "        print(\"Step \"+str(i)+\", w0: \"+str(w0)+\", w1: \"+str(w1)+\", loss0: \"+str(l0)+\", loss1: \"+str(l1))\n",
    "        w0 = w0 - lr * l0\n",
    "        w1 = w1 - lr * l1\n",
    "        i = i + 1\n",
    "        if ( l0 < threshold and l1 < threshold and l0 > -threshold and l1> -threshold):\n",
    "            break\n",
    "    "
   ]
  },
  {
   "cell_type": "code",
   "execution_count": 10,
   "id": "0de14215",
   "metadata": {},
   "outputs": [
    {
     "name": "stdout",
     "output_type": "stream",
     "text": [
      "Step 0, w0: 3, w1: 3, loss0: 28.0, loss1: 84.0\n",
      "Step 1, w0: 2.86, w1: 2.58, loss0: 10.22000000000001, loss1: 26.36760000000002\n",
      "Step 2, w0: 2.8089, w1: 2.448162, loss0: 4.631703999999998, loss1: 11.339161728047992\n",
      "Step 3, w0: 2.78574148, w1: 2.39146619135976, loss0: 2.2273215171099174, loss1: 5.326564105456496\n",
      "Step 4, w0: 2.7746048724144505, w1: 2.3648333708324776, loss0: 1.0976064473785136, loss1: 2.5956563548015836\n",
      "Step 5, w0: 2.769116840177558, w1: 2.3518550890584695, loss0: 0.5470305806332805, loss1: 1.2865366549329877\n",
      "Step 6, w0: 2.7663816872743916, w1: 2.3454224057838045, loss0: 0.274122730194172, loss1: 0.6429335933320388\n",
      "Step 7, w0: 2.7650110736234206, w1: 2.3422077378171444, loss0: 0.13773606194347998, loss1: 0.32260647006048515\n",
      "Step 8, w0: 2.7643223933137033, w1: 2.340594705466842, loss0: 0.0693000229210714, loss1: 0.16220326673779084\n"
     ]
    }
   ],
   "source": [
    "gd(3,3,0.005,0.25,y,x)"
   ]
  }
 ],
 "metadata": {
  "kernelspec": {
   "display_name": "base",
   "language": "python",
   "name": "python3"
  },
  "language_info": {
   "codemirror_mode": {
    "name": "ipython",
    "version": 3
   },
   "file_extension": ".py",
   "mimetype": "text/x-python",
   "name": "python",
   "nbconvert_exporter": "python",
   "pygments_lexer": "ipython3",
   "version": "3.12.2"
  }
 },
 "nbformat": 4,
 "nbformat_minor": 5
}
